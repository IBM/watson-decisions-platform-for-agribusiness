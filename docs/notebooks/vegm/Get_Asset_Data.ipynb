{
 "cells": [
  {
   "cell_type": "markdown",
   "id": "ccb341d3",
   "metadata": {
    "hideCode": false,
    "hidePrompt": false
   },
   "source": [
    "# Get Asset Data — Naperville Example"
   ]
  },
  {
   "cell_type": "markdown",
   "id": "705aa8d3",
   "metadata": {},
   "source": [
    "___"
   ]
  },
  {
   "cell_type": "markdown",
   "id": "3bee5670",
   "metadata": {},
   "source": [
    "**Notebook Features:**\n",
    "\n",
    "1. Extract all segments, corridors, or regions for a given territory\n",
    "\n",
    "2. Get all segments for a given corridor\n",
    "\n",
    "3. Extract all assets by any hierarchy level\n",
    "\n",
    "4. Get detailed information about a given asset"
   ]
  },
  {
   "cell_type": "markdown",
   "id": "22461ef3",
   "metadata": {},
   "source": [
    "___"
   ]
  },
  {
   "cell_type": "markdown",
   "id": "81a10fbb",
   "metadata": {},
   "source": [
    "**Example below is with Naperville** — Expected asset count:\n",
    "\n",
    "`TERRITORY` count = 1\n",
    "\n",
    "`REGION` count = 0\n",
    "\n",
    "`CORRIDOR` count = 4\n",
    "\n",
    "`SEGMENT` count = 764"
   ]
  },
  {
   "cell_type": "markdown",
   "id": "17a88a5d",
   "metadata": {
    "hideCode": false,
    "hidePrompt": false
   },
   "source": [
    "___"
   ]
  },
  {
   "cell_type": "markdown",
   "id": "6df420db",
   "metadata": {},
   "source": [
    "Generate a token following the directions [here](https://ibm.github.io/Environmental-Intelligence-Suite/api-tokens.html) and paste the token into the quotes for `AUTH_TOKEN`."
   ]
  },
  {
   "cell_type": "code",
   "execution_count": 1,
   "id": "a7f0cbb9",
   "metadata": {
    "hideCode": false,
    "hidePrompt": false
   },
   "outputs": [],
   "source": [
    "AUTH_TOKEN = ''"
   ]
  },
  {
   "cell_type": "markdown",
   "id": "79ffe704",
   "metadata": {
    "hideCode": false,
    "hidePrompt": false
   },
   "source": [
    "___"
   ]
  },
  {
   "cell_type": "markdown",
   "id": "85e1c6db",
   "metadata": {
    "hideCode": false,
    "hidePrompt": false
   },
   "source": [
    "## Import Libraries and Define Functions"
   ]
  },
  {
   "cell_type": "code",
   "execution_count": 2,
   "id": "e8fc4eed",
   "metadata": {},
   "outputs": [],
   "source": [
    "import os\n",
    "import json\n",
    "import pprint\n",
    "import requests\n",
    "from IPython.display import Image\n",
    "from datetime import datetime as dt"
   ]
  },
  {
   "cell_type": "code",
   "execution_count": 3,
   "id": "ac198b3b",
   "metadata": {},
   "outputs": [],
   "source": [
    "API_ENDPOINT = 'foundation.agtech.ibm.com/v2'\n",
    "os.environ[\"API_ENDPOINT\"] = API_ENDPOINT\n",
    "os.environ[\"AUTH_TOKEN\"]= AUTH_TOKEN\n",
    "\n",
    "ASSET_MGMT = {\n",
    "    'host': os.environ.get('API_ENDPOINT', 'Run the notebook to set env vars')\n",
    "}\n",
    "\n",
    "HEADERS = {\n",
    "    'Accept': 'application/json',\n",
    "    'Authorization': 'Bearer ' + os.environ.get(\"AUTH_TOKEN\", 'Run the notebook to set env vars'),\n",
    "    'Content-Type': 'application/json; charset=UTF-8'\n",
    "}\n",
    "\n",
    "PRINTER = pprint.PrettyPrinter(indent = 2)"
   ]
  },
  {
   "cell_type": "code",
   "execution_count": 4,
   "id": "6135c155",
   "metadata": {
    "code_folding": [],
    "hideCode": false,
    "hidePrompt": false
   },
   "outputs": [],
   "source": [
    "def getHierarchy():\n",
    "    get_url = 'https://{}/hierarchy'.format(ASSET_MGMT['host'])\n",
    "    \n",
    "    r = requests.get(url=get_url, headers=HEADERS)\n",
    "    return json.loads(r.text) if (r.status_code == 200) else r.raise_for_status()\n",
    "\n",
    "\n",
    "\n",
    "def getAsset(input_type=None, parentID=None, limit=1000, start=0, idsOnly=False, includeScalars=False, includeGeom=False, assets=None, firstRun=True, assetCount=None, showCount=True):\n",
    "    \n",
    "    if firstRun:\n",
    "        assetCount = 0\n",
    "        assets = {\n",
    "            'features': []\n",
    "        }\n",
    "    \n",
    "    params = {\n",
    "        'start': start,\n",
    "        'idsOnly': idsOnly,\n",
    "        'includeAssetGeometry': includeGeom\n",
    "    }\n",
    "    \n",
    "    if input_type is not None:\n",
    "        params['inputType'] = input_type\n",
    "        \n",
    "    if parentID is not None:\n",
    "        params['parentReferenceUuid'] = parentID\n",
    "\n",
    "    if includeScalars is True:\n",
    "        params['includeScalarInfo'] = includeScalars\n",
    "\n",
    "    get_url = ('https://{}/asset?projection=4326&limit=' + str(limit)).format(ASSET_MGMT['host'])\n",
    "    r = requests.get(url=get_url, headers=HEADERS, params=params)\n",
    "    \n",
    "    if (r.status_code == 200):\n",
    "        response = json.loads(r.text)\n",
    "        assets['features'].extend(response['features'])\n",
    "        assetCount = assetCount + len(response['features'])\n",
    "\n",
    "        if showCount:\n",
    "            print('Assets retrieved so far:', assetCount)\n",
    "        \n",
    "        if len(response['features']) < limit:\n",
    "            return assets\n",
    "        \n",
    "        else:\n",
    "            return getAsset(input_type=input_type, parentID=parentID, limit=limit, start=start+limit, idsOnly=idsOnly, includeScalars=includeScalars, includeGeom=includeGeom, assets=assets, firstRun=False, assetCount=assetCount, showCount=showCount)\n",
    "    \n",
    "    else:\n",
    "        r.raise_for_status()\n",
    "\n",
    "\n",
    "\n",
    "def getAssetById(asset_id, projection = 4326, includeScalarInfo=False):\n",
    "    get_url = 'https://{}/asset/{}?projection={}&includeScalarInfo={}'.format(ASSET_MGMT['host'], asset_id,projection,includeScalarInfo)\n",
    "    \n",
    "    r = requests.get(url=get_url, headers=HEADERS)\n",
    "    return json.loads(r.text) if (r.status_code == 200) else r.raise_for_status()"
   ]
  },
  {
   "cell_type": "markdown",
   "id": "24480832",
   "metadata": {
    "hideCode": false,
    "hidePrompt": false
   },
   "source": [
    "___"
   ]
  },
  {
   "cell_type": "markdown",
   "id": "1187427c",
   "metadata": {},
   "source": [
    "___"
   ]
  },
  {
   "cell_type": "markdown",
   "id": "3cf3fdc2",
   "metadata": {},
   "source": [
    "## Get hierarchy data to determine how many hierarchy levels exist"
   ]
  },
  {
   "cell_type": "code",
   "execution_count": 40,
   "id": "92ca1610",
   "metadata": {},
   "outputs": [],
   "source": [
    "hierarchy = getHierarchy()"
   ]
  },
  {
   "cell_type": "code",
   "execution_count": 41,
   "id": "4b254f97",
   "metadata": {
    "scrolled": true
   },
   "outputs": [
    {
     "name": "stdout",
     "output_type": "stream",
     "text": [
      "Number of Levels in Hierarchy: 3\n",
      "TERRITORY\n",
      "CORRIDOR\n",
      "SEGMENT\n"
     ]
    }
   ],
   "source": [
    "hierarchyLevels = []\n",
    "hierarchyCount = hierarchy['hierarchyList'][0]['numberOfLevels']\n",
    "print('Number of Levels in Hierarchy:', hierarchyCount)\n",
    "for level in hierarchy['hierarchyList'][0]['hierarchyLevels']:\n",
    "    hierarchyLevels.append(level['key'])\n",
    "    print(level['key'])"
   ]
  },
  {
   "cell_type": "markdown",
   "id": "ff70b696",
   "metadata": {
    "hideCode": false,
    "hidePrompt": false
   },
   "source": [
    "___"
   ]
  },
  {
   "cell_type": "markdown",
   "id": "dc4db04c",
   "metadata": {
    "hideCode": false,
    "hidePrompt": false
   },
   "source": [
    "## 1. Extract all segments, corridors, or regions for a given territory"
   ]
  },
  {
   "cell_type": "markdown",
   "id": "ab241a85",
   "metadata": {},
   "source": [
    "**First, get a list of all territories**"
   ]
  },
  {
   "cell_type": "code",
   "execution_count": 42,
   "id": "16062650",
   "metadata": {
    "scrolled": true
   },
   "outputs": [
    {
     "name": "stdout",
     "output_type": "stream",
     "text": [
      "Assets retrieved so far: 1\n"
     ]
    }
   ],
   "source": [
    "territories = getAsset('TERRITORY')"
   ]
  },
  {
   "cell_type": "code",
   "execution_count": 43,
   "id": "591328fc",
   "metadata": {},
   "outputs": [
    {
     "name": "stdout",
     "output_type": "stream",
     "text": [
      "Total number of territories: 1\n"
     ]
    }
   ],
   "source": [
    "print('Total number of territories:', len(territories['features']))"
   ]
  },
  {
   "cell_type": "code",
   "execution_count": 44,
   "id": "5ca8d57e",
   "metadata": {},
   "outputs": [
    {
     "name": "stdout",
     "output_type": "stream",
     "text": [
      "Territory Name: UTILITY\n",
      "Territory UUID: 7dcd9bf6-e382-4a83-b10f-0f3be27860de\n",
      "Index: 0 \n",
      "\n"
     ]
    }
   ],
   "source": [
    "count = 0\n",
    "for territory in territories['features']:\n",
    "    print('Territory Name:', territory['properties']['name'])\n",
    "    print('Territory UUID:', territory['uuid'])\n",
    "    print('Index:', count, '\\n')\n",
    "    count = count + 1"
   ]
  },
  {
   "cell_type": "markdown",
   "id": "ed92ab97",
   "metadata": {},
   "source": [
    "**Next, select a territory.**\n",
    "\n",
    "The default uses the first UUID in the list above. Uncomment the first line of code to specify the UUID or replace the `0` below with the index from the specified territory above."
   ]
  },
  {
   "cell_type": "code",
   "execution_count": 45,
   "id": "da9a2239",
   "metadata": {},
   "outputs": [],
   "source": [
    "# territory_uuid = '<Paste Territory UUID From Above>'\n",
    "territory_uuid = territories['features'][0]['uuid']"
   ]
  },
  {
   "cell_type": "code",
   "execution_count": 46,
   "id": "8c2435a0",
   "metadata": {},
   "outputs": [
    {
     "data": {
      "text/plain": [
       "'7dcd9bf6-e382-4a83-b10f-0f3be27860de'"
      ]
     },
     "execution_count": 46,
     "metadata": {},
     "output_type": "execute_result"
    }
   ],
   "source": [
    "territory_uuid"
   ]
  },
  {
   "cell_type": "markdown",
   "id": "91389436",
   "metadata": {},
   "source": [
    "___"
   ]
  },
  {
   "cell_type": "markdown",
   "id": "33d7aa58",
   "metadata": {},
   "source": [
    "___"
   ]
  },
  {
   "cell_type": "markdown",
   "id": "bcd09abb",
   "metadata": {},
   "source": [
    "### 1a. Get all regions in specified territory (If applicable)"
   ]
  },
  {
   "cell_type": "code",
   "execution_count": 12,
   "id": "fb674aa1",
   "metadata": {},
   "outputs": [
    {
     "name": "stdout",
     "output_type": "stream",
     "text": [
      "Region hierarchy level does not exist\n"
     ]
    }
   ],
   "source": [
    "if 'REGION' in hierarchyLevels:\n",
    "    regions = getAsset('REGION', territory_uuid)\n",
    "    print('\\nTotal number of regions:', len(regions['features']))\n",
    "elif 'REGION' not in hierarchyLevels:\n",
    "    print('Region hierarchy level does not exist')"
   ]
  },
  {
   "cell_type": "code",
   "execution_count": 13,
   "id": "b1b0d9f2",
   "metadata": {},
   "outputs": [
    {
     "name": "stdout",
     "output_type": "stream",
     "text": [
      "Region hierarchy level does not exist\n"
     ]
    }
   ],
   "source": [
    "region_uuids = []\n",
    "if 'REGION' in hierarchyLevels:\n",
    "    for region in regions['features']:\n",
    "        print('Region Name:', region['properties']['name'])\n",
    "        print('Region UUID:', region['uuid'], '\\n')\n",
    "        region_uuids.append(region['uuid'])\n",
    "elif 'REGION' not in hierarchyLevels:\n",
    "    print('Region hierarchy level does not exist')"
   ]
  },
  {
   "cell_type": "markdown",
   "id": "051824f5",
   "metadata": {
    "hideCode": false,
    "hidePrompt": false
   },
   "source": [
    "___"
   ]
  },
  {
   "cell_type": "markdown",
   "id": "66ef84d4",
   "metadata": {},
   "source": [
    "### 1b. Get all corridors in specified territory\n",
    "Iterate through all regions in the given territory to get all corridors"
   ]
  },
  {
   "cell_type": "code",
   "execution_count": 14,
   "id": "7cd47d15",
   "metadata": {},
   "outputs": [
    {
     "name": "stdout",
     "output_type": "stream",
     "text": [
      "Retrieving corridors...\n",
      "\n",
      "Assets retrieved so far: 4\n",
      "\n",
      "Total corridors retrieved: 4\n"
     ]
    }
   ],
   "source": [
    "corridor_count = 0\n",
    "corridor_uuids = []\n",
    "corridors_in_territory = []\n",
    "\n",
    "if hierarchyCount == 3:\n",
    "    print('Retrieving corridors...\\n')\n",
    "    corridors_in_territory = getAsset('CORRIDOR', territory_uuid)\n",
    "    for corridor in corridors_in_territory['features']:\n",
    "        corridor_uuids.append(corridor['uuid'])\n",
    "\n",
    "elif hierarchyCount == 4:\n",
    "    print('Retrieving corridors...\\n')\n",
    "    for region_uuid in region_uuids:\n",
    "        corridors = getAsset('CORRIDOR', region_uuid, showCount=False)\n",
    "        corridor_count = corridor_count + len(corridors['features'])\n",
    "        print('Corridors retrieved so far:', corridor_count)\n",
    "        for corridor in corridors['features']:\n",
    "            corridors_in_territory.append(corridor)\n",
    "            corridor_uuids.append(corridor['uuid'])\n",
    "\n",
    "print('\\nTotal corridors retrieved:', len(corridor_uuids))"
   ]
  },
  {
   "cell_type": "code",
   "execution_count": 16,
   "id": "09140e62",
   "metadata": {},
   "outputs": [],
   "source": [
    "PRINTER.pprint(corridors_in_territory)"
   ]
  },
  {
   "cell_type": "markdown",
   "id": "236f3138",
   "metadata": {},
   "source": [
    "___"
   ]
  },
  {
   "cell_type": "markdown",
   "id": "7293b87b",
   "metadata": {},
   "source": [
    "### 1c. Get all segments in specified territory"
   ]
  },
  {
   "cell_type": "code",
   "execution_count": 17,
   "id": "73cfa1be",
   "metadata": {},
   "outputs": [
    {
     "name": "stdout",
     "output_type": "stream",
     "text": [
      "Retrieving segments...\n",
      "\n",
      "Segments retrieved so far: 178\n",
      "Segments retrieved so far: 606\n",
      "Segments retrieved so far: 616\n",
      "Segments retrieved so far: 764\n",
      "\n",
      "Task complete!\n"
     ]
    }
   ],
   "source": [
    "segments_in_territory = []\n",
    "segment_uuids = []\n",
    "segment_count = 0\n",
    "\n",
    "print('Retrieving segments...\\n')\n",
    "for corridor_uuid in corridor_uuids:\n",
    "    segments = getAsset('SEGMENT', corridor_uuid, showCount=False)\n",
    "    segment_count = segment_count + len(segments['features'])\n",
    "    print('Segments retrieved so far:', segment_count)\n",
    "    for segment in segments['features']:\n",
    "        segments_in_territory.append(segment)\n",
    "        segment_uuids.append(segment['uuid'])\n",
    "print('\\nTask complete!')"
   ]
  },
  {
   "cell_type": "code",
   "execution_count": 18,
   "id": "41f7c63f",
   "metadata": {},
   "outputs": [
    {
     "name": "stdout",
     "output_type": "stream",
     "text": [
      "Total number of segments returned: 764\n"
     ]
    }
   ],
   "source": [
    "print('Total number of segments returned:', len(segments_in_territory))"
   ]
  },
  {
   "cell_type": "code",
   "execution_count": 20,
   "id": "71155567",
   "metadata": {},
   "outputs": [],
   "source": [
    "PRINTER.pprint(segments_in_territory)"
   ]
  },
  {
   "cell_type": "markdown",
   "id": "286989ef",
   "metadata": {},
   "source": [
    "___"
   ]
  },
  {
   "cell_type": "markdown",
   "id": "7bb5da28",
   "metadata": {},
   "source": [
    "___"
   ]
  },
  {
   "cell_type": "markdown",
   "id": "6aa3d85f",
   "metadata": {},
   "source": [
    "## 2. Get all segments for a given corridor"
   ]
  },
  {
   "cell_type": "markdown",
   "id": "2194859a",
   "metadata": {},
   "source": [
    "**Select a corridor**\n",
    "\n",
    "The default uses the first UUID in the `corridor_uuids` list. Uncomment the first line of code to specify the UUID or replace the 0 below with the index from the specified corridor from the `corridor_uuids` list."
   ]
  },
  {
   "cell_type": "code",
   "execution_count": 21,
   "id": "f60c61fc",
   "metadata": {},
   "outputs": [],
   "source": [
    "# corridor_uuids"
   ]
  },
  {
   "cell_type": "code",
   "execution_count": 22,
   "id": "aa6bd439",
   "metadata": {},
   "outputs": [],
   "source": [
    "# corridor_uuid = '<Paste Corridor UUID From Above>'\n",
    "corridor_uuid = corridor_uuids[0]"
   ]
  },
  {
   "cell_type": "code",
   "execution_count": 23,
   "id": "ac5b2ea8",
   "metadata": {},
   "outputs": [
    {
     "name": "stdout",
     "output_type": "stream",
     "text": [
      "Assets retrieved so far: 178\n",
      "\n",
      "Total number of segments retrieved: 178\n"
     ]
    }
   ],
   "source": [
    "corridor_segments_uuid = []\n",
    "\n",
    "corridor_segments = getAsset('SEGMENT', corridor_uuid)\n",
    "\n",
    "for segment in corridor_segments['features']:\n",
    "    corridor_segments_uuid.append(segment['uuid'])\n",
    "\n",
    "print('\\nTotal number of segments retrieved:', len(corridor_segments_uuid))"
   ]
  },
  {
   "cell_type": "code",
   "execution_count": 25,
   "id": "8a75a77a",
   "metadata": {},
   "outputs": [],
   "source": [
    "PRINTER.pprint(corridor_segments_uuid)"
   ]
  },
  {
   "cell_type": "code",
   "execution_count": null,
   "id": "7d0d34cf",
   "metadata": {},
   "outputs": [],
   "source": [
    "PRINTER.pprint(corridor_segments)"
   ]
  },
  {
   "cell_type": "markdown",
   "id": "64bfb19c",
   "metadata": {},
   "source": [
    "___"
   ]
  },
  {
   "cell_type": "markdown",
   "id": "d2d67450",
   "metadata": {},
   "source": [
    "___"
   ]
  },
  {
   "cell_type": "markdown",
   "id": "a88bb460",
   "metadata": {},
   "source": [
    "## 3. Extract all assets by any hierarchy level"
   ]
  },
  {
   "cell_type": "markdown",
   "id": "88eef87b",
   "metadata": {},
   "source": [
    "See all hierarchy levels available"
   ]
  },
  {
   "cell_type": "code",
   "execution_count": 26,
   "id": "62d63987",
   "metadata": {
    "scrolled": true
   },
   "outputs": [
    {
     "name": "stdout",
     "output_type": "stream",
     "text": [
      "['TERRITORY', 'CORRIDOR', 'SEGMENT']\n"
     ]
    }
   ],
   "source": [
    "PRINTER.pprint(hierarchyLevels)"
   ]
  },
  {
   "cell_type": "markdown",
   "id": "ef83de47",
   "metadata": {},
   "source": [
    "___"
   ]
  },
  {
   "cell_type": "markdown",
   "id": "d975bbf8",
   "metadata": {},
   "source": [
    "## 3a. Get all territories\n",
    "See output from API call made at the very beginning of the notebook"
   ]
  },
  {
   "cell_type": "code",
   "execution_count": 27,
   "id": "b5216252",
   "metadata": {
    "scrolled": false
   },
   "outputs": [
    {
     "name": "stdout",
     "output_type": "stream",
     "text": [
      "{ 'features': [ { 'projection': 4326,\n",
      "                  'properties': { 'OWNER': 'UTILITY',\n",
      "                                  'UNIQUE_ROW_ID_COLS': 'OWNER',\n",
      "                                  'area': 15880107.934868898,\n",
      "                                  'box': { 'east': -88.126621,\n",
      "                                           'north': 41.801992,\n",
      "                                           'south': 41.768295,\n",
      "                                           'west': -88.206035},\n",
      "                                  'centroid': { 'latitude': 41.78376495263274,\n",
      "                                                'longitude': -88.16215815465807},\n",
      "                                  'deleted': False,\n",
      "                                  'geometryBufferSize': 0.0,\n",
      "                                  'hierarchyLevelType': 'TERRITORY',\n",
      "                                  'ianaTimeZone': 'America/Chicago',\n",
      "                                  'inputType': 'ASSET',\n",
      "                                  'name': 'UTILITY',\n",
      "                                  'profileId': '960b1744-5527-4144-b4a1-05ea7497dbb2'},\n",
      "                  'type': 'Feature',\n",
      "                  'uuid': '7dcd9bf6-e382-4a83-b10f-0f3be27860de'}]}\n"
     ]
    }
   ],
   "source": [
    "PRINTER.pprint(territories)"
   ]
  },
  {
   "cell_type": "markdown",
   "id": "9a3ac226",
   "metadata": {},
   "source": [
    "---"
   ]
  },
  {
   "cell_type": "markdown",
   "id": "0c32403b",
   "metadata": {},
   "source": [
    "## 3b. Get all regions"
   ]
  },
  {
   "cell_type": "code",
   "execution_count": 28,
   "id": "1b6c8e9a",
   "metadata": {},
   "outputs": [
    {
     "name": "stdout",
     "output_type": "stream",
     "text": [
      "This client does not have any regions\n"
     ]
    }
   ],
   "source": [
    "if 'REGION' not in hierarchyLevels:\n",
    "    print('This client does not have any regions')\n",
    "else:\n",
    "    all_regions = getAsset('REGION')\n",
    "    print('\\nTotal regions retrieved:', len(list(all_regions['features'])))\n",
    "#     PRINTER.pprint(all_regions)"
   ]
  },
  {
   "cell_type": "markdown",
   "id": "297bdf77",
   "metadata": {},
   "source": [
    "___"
   ]
  },
  {
   "cell_type": "markdown",
   "id": "8a5e65b0",
   "metadata": {},
   "source": [
    "## 3c. Get all corridors"
   ]
  },
  {
   "cell_type": "code",
   "execution_count": 30,
   "id": "e81a5ff3",
   "metadata": {},
   "outputs": [
    {
     "name": "stdout",
     "output_type": "stream",
     "text": [
      "Assets retrieved so far: 4\n",
      "\n",
      "Total time required to retrieve all corridors: 0:00:00.330777\n"
     ]
    }
   ],
   "source": [
    "start = dt.now()\n",
    "all_corridors = getAsset('CORRIDOR')\n",
    "print('\\nTotal time required to retrieve all corridors:', dt.now()-start)"
   ]
  },
  {
   "cell_type": "code",
   "execution_count": 31,
   "id": "6d72d2d9",
   "metadata": {},
   "outputs": [
    {
     "name": "stdout",
     "output_type": "stream",
     "text": [
      "Total regions retrieved: 4\n"
     ]
    }
   ],
   "source": [
    "print('Total regions retrieved:', len(list(all_corridors['features'])))"
   ]
  },
  {
   "cell_type": "code",
   "execution_count": null,
   "id": "88358c08",
   "metadata": {
    "scrolled": false
   },
   "outputs": [],
   "source": [
    "PRINTER.pprint(all_corridors)"
   ]
  },
  {
   "cell_type": "markdown",
   "id": "319b2bb9",
   "metadata": {},
   "source": [
    "___"
   ]
  },
  {
   "cell_type": "markdown",
   "id": "e61c7fdd",
   "metadata": {},
   "source": [
    "## 3d. Get all segments"
   ]
  },
  {
   "cell_type": "code",
   "execution_count": 33,
   "id": "0962f0c9",
   "metadata": {},
   "outputs": [
    {
     "name": "stdout",
     "output_type": "stream",
     "text": [
      "Assets retrieved so far: 764\n",
      "\n",
      "Total time required to retrieve all segments: 0:00:00.801053\n"
     ]
    }
   ],
   "source": [
    "start = dt.now()\n",
    "all_segments = getAsset('SEGMENT')\n",
    "print('\\nTotal time required to retrieve all segments:', dt.now()-start)"
   ]
  },
  {
   "cell_type": "code",
   "execution_count": 34,
   "id": "c57f9e86",
   "metadata": {},
   "outputs": [
    {
     "name": "stdout",
     "output_type": "stream",
     "text": [
      "Total segments retrieved: 764\n"
     ]
    }
   ],
   "source": [
    "print('Total segments retrieved:', len(list(all_segments['features'])))"
   ]
  },
  {
   "cell_type": "code",
   "execution_count": 36,
   "id": "a89801c0",
   "metadata": {},
   "outputs": [],
   "source": [
    "PRINTER.pprint(all_segments)"
   ]
  },
  {
   "cell_type": "markdown",
   "id": "a2e46887",
   "metadata": {},
   "source": [
    "___"
   ]
  },
  {
   "cell_type": "markdown",
   "id": "2490c902",
   "metadata": {},
   "source": [
    "___"
   ]
  },
  {
   "cell_type": "markdown",
   "id": "e8154893",
   "metadata": {},
   "source": [
    "## 4. Get Detailed Information About A Given Asset"
   ]
  },
  {
   "cell_type": "markdown",
   "id": "278d73f8",
   "metadata": {},
   "source": [
    "Get Asset by UUID. Please specify the UUID of the asset of interest. The current default uses the first territory in the list above."
   ]
  },
  {
   "cell_type": "code",
   "execution_count": 37,
   "id": "af612f53",
   "metadata": {},
   "outputs": [],
   "source": [
    "asset_uuid = territories['features'][0]['uuid']"
   ]
  },
  {
   "cell_type": "code",
   "execution_count": 38,
   "id": "38a0ad46",
   "metadata": {},
   "outputs": [],
   "source": [
    "detailed_asset_info = getAssetById(asset_uuid)"
   ]
  },
  {
   "cell_type": "code",
   "execution_count": 39,
   "id": "60664a98",
   "metadata": {},
   "outputs": [
    {
     "data": {
      "text/plain": [
       "{'uuid': '7dcd9bf6-e382-4a83-b10f-0f3be27860de',\n",
       " 'properties': {'name': 'UTILITY',\n",
       "  'area': 15880107.934868898,\n",
       "  'box': {'north': 41.801992,\n",
       "   'south': 41.768295,\n",
       "   'east': -88.126621,\n",
       "   'west': -88.206035},\n",
       "  'centroid': {'latitude': 41.78376495263274, 'longitude': -88.16215815465807},\n",
       "  'ianaTimeZone': 'America/Chicago',\n",
       "  'deleted': False,\n",
       "  'inputType': 'ASSET',\n",
       "  'hierarchyLevelType': 'TERRITORY',\n",
       "  'profileId': '960b1744-5527-4144-b4a1-05ea7497dbb2',\n",
       "  'geometryBufferSize': 0.0,\n",
       "  'OWNER': 'UTILITY',\n",
       "  'UNIQUE_ROW_ID_COLS': 'OWNER'},\n",
       " 'geometry': {'type': 'Polygon',\n",
       "  'coordinates': [[[-88.201452, 41.768295],\n",
       "    [-88.196398, 41.768305],\n",
       "    [-88.196383, 41.768305],\n",
       "    [-88.193688, 41.768336],\n",
       "    [-88.193573, 41.768342],\n",
       "    [-88.186028, 41.768972],\n",
       "    [-88.175021, 41.769892],\n",
       "    [-88.161278, 41.771041],\n",
       "    [-88.153957, 41.771653],\n",
       "    [-88.144312, 41.772459],\n",
       "    [-88.142899, 41.772577],\n",
       "    [-88.141566, 41.772689],\n",
       "    [-88.140093, 41.772812],\n",
       "    [-88.138672, 41.772931],\n",
       "    [-88.137329, 41.773043],\n",
       "    [-88.135977, 41.773156],\n",
       "    [-88.134687, 41.773264],\n",
       "    [-88.134412, 41.773312],\n",
       "    [-88.134158, 41.773407],\n",
       "    [-88.133942, 41.773544],\n",
       "    [-88.133774, 41.773715],\n",
       "    [-88.130889, 41.777531],\n",
       "    [-88.130763, 41.777777],\n",
       "    [-88.12665, 41.791455],\n",
       "    [-88.126621, 41.791658],\n",
       "    [-88.126653, 41.79186],\n",
       "    [-88.126994, 41.792941],\n",
       "    [-88.127049, 41.79307],\n",
       "    [-88.127264, 41.793471],\n",
       "    [-88.127419, 41.793677],\n",
       "    [-88.12764, 41.793845],\n",
       "    [-88.127912, 41.793965],\n",
       "    [-88.12908, 41.794334],\n",
       "    [-88.129095, 41.794339],\n",
       "    [-88.154052, 41.801932],\n",
       "    [-88.154366, 41.801992],\n",
       "    [-88.15469, 41.801988],\n",
       "    [-88.170893, 41.80011],\n",
       "    [-88.171161, 41.800055],\n",
       "    [-88.171404, 41.799955],\n",
       "    [-88.171611, 41.799816],\n",
       "    [-88.20564, 41.770942],\n",
       "    [-88.205779, 41.770797],\n",
       "    [-88.205877, 41.770635],\n",
       "    [-88.205976, 41.770416],\n",
       "    [-88.206035, 41.7702],\n",
       "    [-88.206022, 41.769979],\n",
       "    [-88.205939, 41.769768],\n",
       "    [-88.205788, 41.769578],\n",
       "    [-88.205581, 41.769421],\n",
       "    [-88.205329, 41.769307],\n",
       "    [-88.203015, 41.768529],\n",
       "    [-88.202865, 41.768487],\n",
       "    [-88.202393, 41.768382],\n",
       "    [-88.202182, 41.76835],\n",
       "    [-88.201587, 41.768301],\n",
       "    [-88.201452, 41.768295]]]},\n",
       " 'type': 'Feature',\n",
       " 'projection': 4326}"
      ]
     },
     "execution_count": 39,
     "metadata": {},
     "output_type": "execute_result"
    }
   ],
   "source": [
    "detailed_asset_info"
   ]
  },
  {
   "cell_type": "markdown",
   "id": "9925f5f8",
   "metadata": {},
   "source": [
    "___"
   ]
  },
  {
   "cell_type": "markdown",
   "id": "6a7f56e7",
   "metadata": {},
   "source": [
    "___"
   ]
  }
 ],
 "metadata": {
  "hide_code_all_hidden": false,
  "kernelspec": {
   "display_name": "Python 3",
   "language": "python",
   "name": "python3"
  },
  "language_info": {
   "codemirror_mode": {
    "name": "ipython",
    "version": 3
   },
   "file_extension": ".py",
   "mimetype": "text/x-python",
   "name": "python",
   "nbconvert_exporter": "python",
   "pygments_lexer": "ipython3",
   "version": "3.9.4"
  }
 },
 "nbformat": 4,
 "nbformat_minor": 5
}
