{
 "cells": [
  {
   "cell_type": "markdown",
   "metadata": {},
   "source": [
    "# Export Report\n",
    "\n",
    "Generate a token following the directions [here](https://ibm.github.io/Environmental-Intelligence-Suite/api-tokens.html) and paste the token into the quotes for `AUTH_TOKEN` below."
   ]
  },
  {
   "cell_type": "markdown",
   "metadata": {},
   "source": [
    "_____________________"
   ]
  },
  {
   "cell_type": "code",
   "execution_count": 155,
   "metadata": {},
   "outputs": [],
   "source": [
    "AUTH_TOKEN = ''\n",
    "API_ENDPOINT = 'foundation.agtech.ibm.com/v2'"
   ]
  },
  {
   "cell_type": "code",
   "execution_count": 156,
   "metadata": {},
   "outputs": [],
   "source": [
    "import os\n",
    "import json\n",
    "import pprint\n",
    "import requests\n",
    "import geopandas as gpd"
   ]
  },
  {
   "cell_type": "code",
   "execution_count": 157,
   "metadata": {},
   "outputs": [],
   "source": [
    "os.environ[\"API_ENDPOINT\"] = API_ENDPOINT\n",
    "os.environ[\"AUTH_TOKEN\"]= AUTH_TOKEN\n",
    "\n",
    "ASSET_MGMT = {\n",
    "    'host': os.environ.get('API_ENDPOINT', 'Run the notebook to set env vars')\n",
    "}\n",
    "\n",
    "HEADERS = {\n",
    "    'Accept': 'application/json',\n",
    "    'Authorization': 'Bearer ' + os.environ.get(\"AUTH_TOKEN\", 'Run the notebook to set env vars'),\n",
    "    'Content-Type': 'application/json; charset=UTF-8'\n",
    "}\n",
    "\n",
    "PRINTER = pprint.PrettyPrinter(indent = 2)"
   ]
  },
  {
   "cell_type": "code",
   "execution_count": 158,
   "metadata": {},
   "outputs": [],
   "source": [
    "def getHierarchy():\n",
    "    get_url = 'https://{}/hierarchy'.format(ASSET_MGMT['host'])\n",
    "    \n",
    "    r = requests.get(url=get_url, headers=HEADERS)\n",
    "    return json.loads(r.text) if (r.status_code == 200) else r.raise_for_status()\n",
    "\n",
    "\n",
    "def getAsset(input_type=None, parentID=None, limit=20, start=0, idsOnly=False, includeScalarInfo=False, includeAssetGeometry=False):\n",
    "    \n",
    "    get_url = 'https://{}/asset'.format(ASSET_MGMT['host'])\n",
    "    \n",
    "    params = {\n",
    "        'limit': limit,\n",
    "        'start': start,\n",
    "        'idsOnly': idsOnly,\n",
    "        'includeAssetGeometry': includeAssetGeometry,\n",
    "        'projection': 4326\n",
    "    }\n",
    "    \n",
    "    if input_type is not None:\n",
    "        params['inputType'] = input_type\n",
    "        \n",
    "    if parentID is not None:\n",
    "        params['parentReferenceUuid'] = parentID\n",
    "\n",
    "    if includeScalarInfo is True:\n",
    "        params['includeScalarInfo'] = includeScalarInfo\n",
    "    \n",
    "    r = requests.get(url=get_url, headers=HEADERS,  params=params)\n",
    "    \n",
    "    return json.loads(r.text) if (r.status_code == 200) else r.raise_for_status()\n",
    "\n",
    "\n",
    "def getScalarType(scalar_type=None):\n",
    "    get_url = 'https://{}/scalar/type'.format(ASSET_MGMT['host'])\n",
    "    \n",
    "    params = {}\n",
    "    \n",
    "    if scalar_type is not None:\n",
    "        params['type'] = scalar_type\n",
    "    \n",
    "    r = requests.get(url=get_url, headers=HEADERS,  params=params) \n",
    "    return json.loads(r.text) if (r.status_code == 200) else r.raise_for_status()\n",
    "\n",
    "\n",
    "def postReportJob(job_name, job_params_list, inputType, territory_uuid=None, scalar_data=True, wkt_geom=False, limit=None):\n",
    "    post_url = 'https://{}/report/job'.format(ASSET_MGMT['host'])\n",
    "    \n",
    "    data = {\n",
    "        'jobName': job_name,\n",
    "        'jobType': 'ASSET_SEARCH',\n",
    "        'jobRequest': {\n",
    "            'inputType': inputType,\n",
    "            'nameMatch': 'STARTS_WITH',\n",
    "            'includeScalarInfo':  scalar_data,\n",
    "            'projection': 4326,\n",
    "            'uuidsOnly': False,\n",
    "            'start': 0,\n",
    "            'limit': limit,\n",
    "            'parentUuid': territory_uuid,\n",
    "            'includeAllChildren': True\n",
    "        },\n",
    "        'jobParams': job_params_list\n",
    "    }\n",
    "    \n",
    "    if wkt_geom and 'geometry' not in data['jobParams']:\n",
    "        data['jobParams'].append('geometry')\n",
    "    \n",
    "    PRINTER.pprint(data)\n",
    "    r = requests.post(url = post_url, data = json.dumps(data), headers = HEADERS) \n",
    "    return json.loads(r.text)\n",
    "\n",
    "\n",
    "def getReportStatus(jobid, includeStage=True):\n",
    "    \n",
    "    get_url = 'https://{}/report/{}/status?includeStage={}'.format(ASSET_MGMT['host'],jobid,includeStage)\n",
    "    r = requests.get(url = get_url, headers = HEADERS) \n",
    "    return json.loads(r.text) if (r.status_code == 200) else r.raise_for_status()\n",
    "\n",
    "    \n",
    "def fetchReport(jobid, filepath, fileformat):\n",
    "\n",
    "    get_url = 'https://{}/report/{}/data?format={}'.format(ASSET_MGMT['host'], jobid, fileformat)\n",
    "    r = requests.get(url=get_url, headers=HEADERS)\n",
    "    \n",
    "    if fileformat == 'geojson':\n",
    "        with open(filepath + '.geojson', 'w') as outfile:\n",
    "            outfile.write(r.text)\n",
    "            \n",
    "    elif fileformat == 'csv':\n",
    "        with open(filepath + '.csv', 'w') as outfile:\n",
    "            outfile.write(r.text)"
   ]
  },
  {
   "cell_type": "markdown",
   "metadata": {},
   "source": [
    " "
   ]
  },
  {
   "cell_type": "markdown",
   "metadata": {},
   "source": [
    "___"
   ]
  },
  {
   "cell_type": "markdown",
   "metadata": {},
   "source": [
    "_____________________"
   ]
  },
  {
   "cell_type": "markdown",
   "metadata": {},
   "source": [
    "### Generate Report For All Territories\n",
    "\n",
    "**(1) Configure The Request**"
   ]
  },
  {
   "cell_type": "markdown",
   "metadata": {},
   "source": [
    "First, we will define a name for the report"
   ]
  },
  {
   "cell_type": "code",
   "execution_count": 159,
   "metadata": {},
   "outputs": [],
   "source": [
    "job_name = 'Demo'"
   ]
  },
  {
   "cell_type": "markdown",
   "metadata": {},
   "source": [
    "Next, make an API call get to get all available scalar types"
   ]
  },
  {
   "cell_type": "code",
   "execution_count": 160,
   "metadata": {},
   "outputs": [
    {
     "name": "stdout",
     "output_type": "stream",
     "text": [
      "{ 'scalarTypes': [ { 'description': 'Total area of asset',\n",
      "                     'displayFormat': 'area',\n",
      "                     'displayName': 'Area',\n",
      "                     'id': 41,\n",
      "                     'propertyName': 'area_cor',\n",
      "                     'type': 'Kpi',\n",
      "                     'unit': 'meters^2',\n",
      "                     'uuid': 'c38b0f8d-7439-40da-a544-c26b6b7d5a73'},\n",
      "                   { 'description': 'Length of asset',\n",
      "                     'displayFormat': 'meters',\n",
      "                     'displayName': 'Length of asset',\n",
      "                     'id': 42,\n",
      "                     'propertyName': 'length_cor',\n",
      "                     'type': 'Kpi',\n",
      "                     'unit': 'meters',\n",
      "                     'uuid': 'ca42c431-9535-4acc-bb78-cbaaac073ed3'},\n",
      "                   { 'description': 'Count of veg polygons within 10ft',\n",
      "                     'displayFormat': 'num',\n",
      "                     'displayName': 'Count of veg polygons within 10ft',\n",
      "                     'id': 43,\n",
      "                     'propertyName': 'dist_less_than_3_048m',\n",
      "                     'type': 'Kpi',\n",
      "                     'unit': 'count',\n",
      "                     'uuid': '9018152a-d78b-49c4-9b04-21ff64d996d1'},\n",
      "                   { 'description': 'Count of veg polygons within 20ft',\n",
      "                     'displayFormat': 'num',\n",
      "                     'displayName': 'Count of veg polygons within 20ft',\n",
      "                     'id': 44,\n",
      "                     'propertyName': 'dist_less_than_6_096m',\n",
      "                     'type': 'Kpi',\n",
      "                     'unit': 'count',\n",
      "                     'uuid': 'c473d37f-cad3-4102-9e28-8f1e1a4caaa6'},\n",
      "                   { 'description': 'Total',\n",
      "                     'displayFormat': 'num',\n",
      "                     'displayName': 'Total',\n",
      "                     'id': 45,\n",
      "                     'propertyName': 'total',\n",
      "                     'type': 'Kpi',\n",
      "                     'unit': 'count',\n",
      "                     'uuid': '8c203916-4ec5-46e3-8c69-5b43efdef3c4'},\n",
      "                   { 'description': 'Minimum 3D distance to wire',\n",
      "                     'displayFormat': 'num',\n",
      "                     'displayName': 'Minimum 3D distance to wire',\n",
      "                     'id': 46,\n",
      "                     'propertyName': 'min_3d_distance',\n",
      "                     'type': 'Kpi',\n",
      "                     'unit': 'meters',\n",
      "                     'uuid': '587cc8e5-a5d5-4c71-83ff-9d96ca64e00c'},\n",
      "                   { 'description': 'Average vertical distance wire from '\n",
      "                                    'vegetation',\n",
      "                     'displayFormat': 'num',\n",
      "                     'displayName': 'Avgerage vertical distance',\n",
      "                     'id': 47,\n",
      "                     'propertyName': 'avg_vert_dist',\n",
      "                     'type': 'Kpi',\n",
      "                     'unit': 'meters',\n",
      "                     'uuid': 'b956e222-2129-4cf8-9bbd-70a274436f6f'},\n",
      "                   { 'description': 'Minimum 2D distance to wire',\n",
      "                     'displayFormat': 'num',\n",
      "                     'displayName': 'Minimum 2D distance to wire',\n",
      "                     'id': 48,\n",
      "                     'propertyName': 'min_2d_distance',\n",
      "                     'type': 'Kpi',\n",
      "                     'unit': 'meters',\n",
      "                     'uuid': 'd93ca453-ec1f-4979-8031-5a529ef5496b'},\n",
      "                   { 'description': 'Tree percentage less than 10ft',\n",
      "                     'displayFormat': 'percent',\n",
      "                     'displayName': 'Tree percentage less than 10ft',\n",
      "                     'id': 49,\n",
      "                     'propertyName': 'less_than_percent_3_048m',\n",
      "                     'type': 'Kpi',\n",
      "                     'unit': 'percent',\n",
      "                     'uuid': '35cea7f7-9786-476f-8191-6fe638667902'},\n",
      "                   { 'description': 'Tree percentage less than 20ft',\n",
      "                     'displayFormat': 'percent',\n",
      "                     'displayName': 'Tree percentage less than 20ft',\n",
      "                     'id': 50,\n",
      "                     'propertyName': 'less_than_percent_6_096m',\n",
      "                     'type': 'Kpi',\n",
      "                     'unit': 'percent',\n",
      "                     'uuid': '32bcb435-e80a-4332-ab16-89475c6478ba'},\n",
      "                   { 'description': 'Total area of trees > 0ft',\n",
      "                     'displayFormat': 'area',\n",
      "                     'displayName': 'Total area of trees > 0ft',\n",
      "                     'id': 51,\n",
      "                     'propertyName': 'area_trees_over_0m',\n",
      "                     'type': 'Kpi',\n",
      "                     'unit': 'meters^2',\n",
      "                     'uuid': 'ee872312-26b4-451e-99f8-aef99edbc6f2'},\n",
      "                   { 'description': 'Total area of trees > 30ft',\n",
      "                     'displayFormat': 'area',\n",
      "                     'displayName': 'Total area of trees > 30ft',\n",
      "                     'id': 52,\n",
      "                     'propertyName': 'area_trees_over_9_144m',\n",
      "                     'type': 'Kpi',\n",
      "                     'unit': 'meters^2',\n",
      "                     'uuid': '5f3688cd-7d7a-4405-ab6d-c88713a50e6a'},\n",
      "                   { 'description': 'Percent trees over 30ft',\n",
      "                     'displayFormat': 'percent',\n",
      "                     'displayName': 'Percent area trees over 30ft',\n",
      "                     'id': 53,\n",
      "                     'propertyName': 'percent_area_trees_over_9_144m',\n",
      "                     'type': 'Kpi',\n",
      "                     'unit': 'percent',\n",
      "                     'uuid': '0be3b6c7-f7fc-43f4-b00f-6cfab2825c20'},\n",
      "                   { 'description': 'Total area of trees > 60ft',\n",
      "                     'displayFormat': 'area',\n",
      "                     'displayName': 'Total area of trees > 60ft',\n",
      "                     'id': 54,\n",
      "                     'propertyName': 'area_trees_over_18_288m',\n",
      "                     'type': 'Kpi',\n",
      "                     'unit': 'meters^2',\n",
      "                     'uuid': 'd5775b1b-d706-41be-9960-31eb9cdb1039'},\n",
      "                   { 'description': 'Percent area trees over 60ft',\n",
      "                     'displayFormat': 'percent',\n",
      "                     'displayName': 'Percent area trees over 60ft',\n",
      "                     'id': 55,\n",
      "                     'propertyName': 'percent_area_trees_over_18_288m',\n",
      "                     'type': 'Kpi',\n",
      "                     'unit': 'percent',\n",
      "                     'uuid': 'f203733e-8bc5-4989-b6a0-8c4fb848e86d'},\n",
      "                   { 'description': 'Trees over wire',\n",
      "                     'displayFormat': 'num',\n",
      "                     'displayName': 'Trees over wire',\n",
      "                     'id': 56,\n",
      "                     'propertyName': 'trees_over_wire',\n",
      "                     'type': 'Kpi',\n",
      "                     'unit': 'count',\n",
      "                     'uuid': '7bec6343-c8c7-4cb0-909b-3572e708b799'},\n",
      "                   { 'description': 'Trees over 30ft (count)',\n",
      "                     'displayFormat': 'num',\n",
      "                     'displayName': 'Trees over 30ft',\n",
      "                     'id': 57,\n",
      "                     'propertyName': 'trees_over_9_144m',\n",
      "                     'type': 'Kpi',\n",
      "                     'unit': 'count',\n",
      "                     'uuid': 'ae2dc57c-a98e-421e-9795-dcbbfbba125a'},\n",
      "                   { 'description': 'Trees over 60ft (count)',\n",
      "                     'displayFormat': 'num',\n",
      "                     'displayName': 'Trees over 60ft',\n",
      "                     'id': 58,\n",
      "                     'propertyName': 'trees_over_18_288m',\n",
      "                     'type': 'Kpi',\n",
      "                     'unit': 'count',\n",
      "                     'uuid': 'b16cb178-0d60-44ea-8ea6-82546c8a1678'},\n",
      "                   { 'description': 'The wire height',\n",
      "                     'displayFormat': 'num',\n",
      "                     'displayName': 'Wire height',\n",
      "                     'id': 59,\n",
      "                     'propertyName': 'wire_height',\n",
      "                     'type': 'Kpi',\n",
      "                     'unit': 'meters',\n",
      "                     'uuid': '4b9afb9e-fbcd-41cc-94be-18ac156622b0'},\n",
      "                   { 'description': 'Estimated length (long-wise) of '\n",
      "                                    'vegetation within segment',\n",
      "                     'displayFormat': 'num',\n",
      "                     'displayName': 'Estimated length of vegetation',\n",
      "                     'id': 60,\n",
      "                     'propertyName': 'length_with_veg',\n",
      "                     'type': 'Kpi',\n",
      "                     'unit': 'meters',\n",
      "                     'uuid': '1b095aa5-c838-4a87-98ad-f372839c6afa'},\n",
      "                   { 'description': 'The average vegetation height',\n",
      "                     'displayFormat': 'num',\n",
      "                     'displayName': 'Average heights',\n",
      "                     'id': 61,\n",
      "                     'propertyName': 'tree_height_avg',\n",
      "                     'type': 'Kpi',\n",
      "                     'unit': 'meters',\n",
      "                     'uuid': '672e48cf-d129-4ffb-97bb-63e557880db9'},\n",
      "                   { 'description': 'Percent area trees over 0ft',\n",
      "                     'displayFormat': 'percent',\n",
      "                     'displayName': 'Total vegetation percentage coverage',\n",
      "                     'id': 62,\n",
      "                     'propertyName': 'tree_coverage_percentage',\n",
      "                     'type': 'Kpi',\n",
      "                     'unit': 'percent',\n",
      "                     'uuid': '57c2049b-8526-4434-97c9-20972f091d0c'},\n",
      "                   { 'description': 'The max vegetation height',\n",
      "                     'displayFormat': 'num',\n",
      "                     'displayName': 'Max heights',\n",
      "                     'id': 63,\n",
      "                     'propertyName': 'tree_height_max',\n",
      "                     'type': 'Kpi',\n",
      "                     'unit': 'meters',\n",
      "                     'uuid': 'eff8d4cf-f409-49d2-afdc-cfdb703703d8'},\n",
      "                   { 'description': 'Number of trees that pose risk to '\n",
      "                                    'powerlines',\n",
      "                     'displayFormat': 'num',\n",
      "                     'displayName': 'Fall-in risks',\n",
      "                     'id': 74703,\n",
      "                     'propertyName': 'fallin_tree_count',\n",
      "                     'type': 'Kpi',\n",
      "                     'unit': 'count',\n",
      "                     'uuid': '274b323c-8ae0-4856-a6c3-467c5991f87a'},\n",
      "                   { 'category': 'proactive',\n",
      "                     'description': 'Action to be taken one of - (Site '\n",
      "                                    'inspection, Pruning, Trimming)',\n",
      "                     'displayFormat': 'string',\n",
      "                     'displayName': 'Recommended action',\n",
      "                     'id': 66,\n",
      "                     'propertyName': 'action_recommended',\n",
      "                     'type': 'Action',\n",
      "                     'uuid': '466abf87-3397-4a01-a2c7-f6a13771f042'},\n",
      "                   { 'bucketDefinition': 'T1 < s < T2',\n",
      "                     'description': 'The score of vegetation (A, B, C, D)',\n",
      "                     'displayFormat': 'VS',\n",
      "                     'displayName': 'Vegetation score',\n",
      "                     'id': 64,\n",
      "                     'propertyName': 'score_vegetation',\n",
      "                     'type': 'Score',\n",
      "                     'uuid': '230c388f-3bc4-4406-a070-295a1023cff7'},\n",
      "                   { 'bucketDefinition': 'T1 < s < T2',\n",
      "                     'description': 'The score of priority (P1, P2, P3, P4)',\n",
      "                     'displayFormat': 'PS',\n",
      "                     'displayName': 'Priority score',\n",
      "                     'id': 65,\n",
      "                     'propertyName': 'score_priority',\n",
      "                     'type': 'Score',\n",
      "                     'uuid': '5b564344-cdb1-4009-93f8-435143b6091e'}]}\n"
     ]
    }
   ],
   "source": [
    "scalar_types = getScalarType()\n",
    "PRINTER.pprint(scalar_types)"
   ]
  },
  {
   "cell_type": "markdown",
   "metadata": {},
   "source": [
    "Create a list of all scalars from the API call above."
   ]
  },
  {
   "cell_type": "code",
   "execution_count": 161,
   "metadata": {},
   "outputs": [],
   "source": [
    "all_scalars = []\n",
    "for scalar in scalar_types['scalarTypes']:\n",
    "    all_scalars.append(scalar['propertyName'])"
   ]
  },
  {
   "cell_type": "markdown",
   "metadata": {},
   "source": [
    "Then, fetch all custom properies from the hierarchy"
   ]
  },
  {
   "cell_type": "code",
   "execution_count": 162,
   "metadata": {},
   "outputs": [],
   "source": [
    "hierarchy = getHierarchy()\n",
    "custom_props = []\n",
    "for level in hierarchy['hierarchyList'][0]['hierarchyLevels']:\n",
    "    for filter in level['displayFilters']:\n",
    "        if filter['type'] == 'CustomProperty':\n",
    "            if filter['key'] not in custom_props and filter['key'] != 'length':\n",
    "                custom_props.append(filter['key'])"
   ]
  },
  {
   "cell_type": "markdown",
   "metadata": {},
   "source": [
    "Finally, assign the `job_params` to `all_scalars + custom_props` and make the API call below to create a report."
   ]
  },
  {
   "cell_type": "code",
   "execution_count": 163,
   "metadata": {
    "scrolled": true
   },
   "outputs": [
    {
     "name": "stdout",
     "output_type": "stream",
     "text": [
      "{ 'jobName': 'Demo',\n",
      "  'jobParams': [ 'area_cor',\n",
      "                 'length_cor',\n",
      "                 'dist_less_than_3_048m',\n",
      "                 'dist_less_than_6_096m',\n",
      "                 'total',\n",
      "                 'min_3d_distance',\n",
      "                 'avg_vert_dist',\n",
      "                 'min_2d_distance',\n",
      "                 'less_than_percent_3_048m',\n",
      "                 'less_than_percent_6_096m',\n",
      "                 'area_trees_over_0m',\n",
      "                 'area_trees_over_9_144m',\n",
      "                 'percent_area_trees_over_9_144m',\n",
      "                 'area_trees_over_18_288m',\n",
      "                 'percent_area_trees_over_18_288m',\n",
      "                 'trees_over_wire',\n",
      "                 'trees_over_9_144m',\n",
      "                 'trees_over_18_288m',\n",
      "                 'wire_height',\n",
      "                 'length_with_veg',\n",
      "                 'tree_height_avg',\n",
      "                 'tree_coverage_percentage',\n",
      "                 'tree_height_max',\n",
      "                 'fallin_tree_count',\n",
      "                 'action_recommended',\n",
      "                 'score_vegetation',\n",
      "                 'score_priority',\n",
      "                 'name',\n",
      "                 'geometry'],\n",
      "  'jobRequest': { 'includeAllChildren': True,\n",
      "                  'includeScalarInfo': True,\n",
      "                  'inputType': 'SEGMENT',\n",
      "                  'limit': None,\n",
      "                  'nameMatch': 'STARTS_WITH',\n",
      "                  'parentUuid': None,\n",
      "                  'projection': 4326,\n",
      "                  'start': 0,\n",
      "                  'uuidsOnly': False},\n",
      "  'jobType': 'ASSET_SEARCH'}\n",
      "{ 'jobId': '5aefd09b-6db3-476c-83da-6a57065a1c95',\n",
      "  'jobName': 'Demo',\n",
      "  'objectStorageLocation': 'agrotech-prod-wocvegmdemo:report/8e874a0a-f13f-4e64-aa84-c8c8eace4ea0/5aefd09b-6db3-476c-83da-6a57065a1c95/report.csv',\n",
      "  'organisation': 'wocvegmdemo',\n",
      "  'status': 'SCHEDULED'}\n"
     ]
    }
   ],
   "source": [
    "job_params = all_scalars + custom_props\n",
    "createReport = postReportJob(job_name, job_params, 'SEGMENT', wkt_geom=True)\n",
    "PRINTER.pprint(createReport)"
   ]
  },
  {
   "cell_type": "markdown",
   "metadata": {},
   "source": [
    "___"
   ]
  },
  {
   "cell_type": "markdown",
   "metadata": {},
   "source": [
    "**(2) Next, get the status of the job report**\n",
    "\n",
    "Change `includeStage` to `False` to remove the detailed stages output"
   ]
  },
  {
   "cell_type": "code",
   "execution_count": 166,
   "metadata": {},
   "outputs": [
    {
     "name": "stdout",
     "output_type": "stream",
     "text": [
      "{ 'createdDate': '2022-02-24T18:38:30Z',\n",
      "  'jobId': '5aefd09b-6db3-476c-83da-6a57065a1c95',\n",
      "  'jobName': 'Demo',\n",
      "  'lastModifiedDate': '2022-02-24T18:38:41Z',\n",
      "  'organisation': 'wocvegmdemo',\n",
      "  'stages': [ { 'description': 'upload [/tmp/tmp44_5hnyi_geojson.zip] to COS',\n",
      "                'stage': 'upload',\n",
      "                'status': 'COMPLETE',\n",
      "                'timestamp': '2022-02-24T18:38:41Z'},\n",
      "              { 'description': 'upload [/tmp/tmp44_5hnyi_geojson.zip] to COS',\n",
      "                'stage': 'upload',\n",
      "                'status': 'START',\n",
      "                'timestamp': '2022-02-24T18:38:40Z'},\n",
      "              { 'description': 'Build zip file for geojson',\n",
      "                'stage': 'Build ZIP file',\n",
      "                'status': 'COMPLETE',\n",
      "                'timestamp': '2022-02-24T18:38:40Z'},\n",
      "              { 'description': 'Build zip file for geojson',\n",
      "                'stage': 'Build ZIP file',\n",
      "                'status': 'START',\n",
      "                'timestamp': '2022-02-24T18:38:40Z'},\n",
      "              { 'description': 'upload [/tmp/tmp44_5hnyi.geojson] to COS',\n",
      "                'stage': 'upload',\n",
      "                'status': 'COMPLETE',\n",
      "                'timestamp': '2022-02-24T18:38:40Z'},\n",
      "              { 'description': 'upload [/tmp/tmp44_5hnyi.geojson] to COS',\n",
      "                'stage': 'upload',\n",
      "                'status': 'START',\n",
      "                'timestamp': '2022-02-24T18:38:39Z'},\n",
      "              { 'description': 'Converting CSV to GEOJSON',\n",
      "                'stage': 'Build GEOJSON',\n",
      "                'status': 'COMPLETE',\n",
      "                'timestamp': '2022-02-24T18:38:39Z'},\n",
      "              { 'description': 'Converting CSV to GEOJSON',\n",
      "                'stage': 'Build GEOJSON',\n",
      "                'status': 'START',\n",
      "                'timestamp': '2022-02-24T18:38:38Z'},\n",
      "              { 'description': 'upload [/tmp/tmp44_5hnyi_csv.zip] to COS',\n",
      "                'stage': 'upload',\n",
      "                'status': 'COMPLETE',\n",
      "                'timestamp': '2022-02-24T18:38:38Z'},\n",
      "              { 'description': 'upload [/tmp/tmp44_5hnyi_csv.zip] to COS',\n",
      "                'stage': 'upload',\n",
      "                'status': 'START',\n",
      "                'timestamp': '2022-02-24T18:38:37Z'},\n",
      "              { 'description': 'Build zip file for CSV',\n",
      "                'stage': 'Build ZIP file',\n",
      "                'status': 'COMPLETE',\n",
      "                'timestamp': '2022-02-24T18:38:37Z'},\n",
      "              { 'description': 'Build zip file for CSV',\n",
      "                'stage': 'Build ZIP file',\n",
      "                'status': 'START',\n",
      "                'timestamp': '2022-02-24T18:38:37Z'},\n",
      "              { 'description': 'upload [/tmp/tmp44_5hnyi.csv] to COS',\n",
      "                'stage': 'upload',\n",
      "                'status': 'COMPLETE',\n",
      "                'timestamp': '2022-02-24T18:38:37Z'},\n",
      "              { 'description': 'upload [/tmp/tmp44_5hnyi.csv] to COS',\n",
      "                'stage': 'upload',\n",
      "                'status': 'START',\n",
      "                'timestamp': '2022-02-24T18:38:36Z'},\n",
      "              { 'description': 'get values (660)',\n",
      "                'stage': 'filter search result',\n",
      "                'status': 'COMPLETE',\n",
      "                'timestamp': '2022-02-24T18:38:36Z'},\n",
      "              { 'description': 'get values (660)',\n",
      "                'stage': 'filter search result',\n",
      "                'status': 'START',\n",
      "                'timestamp': '2022-02-24T18:38:36Z'},\n",
      "              { 'description': 'search asset (660)',\n",
      "                'stage': 'asset search',\n",
      "                'status': 'COMPLETE',\n",
      "                'timestamp': '2022-02-24T18:38:35Z'},\n",
      "              { 'description': 'search asset (660)',\n",
      "                'stage': 'asset search',\n",
      "                'status': 'START',\n",
      "                'timestamp': '2022-02-24T18:38:35Z'},\n",
      "              { 'description': 'get values (440)',\n",
      "                'stage': 'filter search result',\n",
      "                'status': 'COMPLETE',\n",
      "                'timestamp': '2022-02-24T18:38:35Z'},\n",
      "              { 'description': 'get values (440)',\n",
      "                'stage': 'filter search result',\n",
      "                'status': 'START',\n",
      "                'timestamp': '2022-02-24T18:38:35Z'},\n",
      "              { 'description': 'search asset (440)',\n",
      "                'stage': 'asset search',\n",
      "                'status': 'COMPLETE',\n",
      "                'timestamp': '2022-02-24T18:38:34Z'},\n",
      "              { 'description': 'search asset (440)',\n",
      "                'stage': 'asset search',\n",
      "                'status': 'START',\n",
      "                'timestamp': '2022-02-24T18:38:34Z'},\n",
      "              { 'description': 'get values (220)',\n",
      "                'stage': 'filter search result',\n",
      "                'status': 'COMPLETE',\n",
      "                'timestamp': '2022-02-24T18:38:34Z'},\n",
      "              { 'description': 'get values (220)',\n",
      "                'stage': 'filter search result',\n",
      "                'status': 'START',\n",
      "                'timestamp': '2022-02-24T18:38:34Z'},\n",
      "              { 'description': 'search asset (220)',\n",
      "                'stage': 'asset search',\n",
      "                'status': 'COMPLETE',\n",
      "                'timestamp': '2022-02-24T18:38:33Z'},\n",
      "              { 'description': 'search asset (220)',\n",
      "                'stage': 'asset search',\n",
      "                'status': 'START',\n",
      "                'timestamp': '2022-02-24T18:38:32Z'},\n",
      "              { 'description': 'get values (0)',\n",
      "                'stage': 'filter search result',\n",
      "                'status': 'COMPLETE',\n",
      "                'timestamp': '2022-02-24T18:38:32Z'},\n",
      "              { 'description': 'get values (0)',\n",
      "                'stage': 'filter search result',\n",
      "                'status': 'START',\n",
      "                'timestamp': '2022-02-24T18:38:32Z'},\n",
      "              { 'description': 'search asset (0)',\n",
      "                'stage': 'asset search',\n",
      "                'status': 'COMPLETE',\n",
      "                'timestamp': '2022-02-24T18:38:32Z'},\n",
      "              { 'description': 'search asset (0)',\n",
      "                'stage': 'asset search',\n",
      "                'status': 'START',\n",
      "                'timestamp': '2022-02-24T18:38:31Z'},\n",
      "              { 'description': 'build CSV header',\n",
      "                'stage': 'get display names',\n",
      "                'status': 'COMPLETE',\n",
      "                'timestamp': '2022-02-24T18:38:31Z'},\n",
      "              { 'description': 'build CSV header',\n",
      "                'stage': 'get display names',\n",
      "                'status': 'START',\n",
      "                'timestamp': '2022-02-24T18:38:31Z'}],\n",
      "  'status': 'READY'}\n",
      "\n",
      "Job Status: READY\n"
     ]
    }
   ],
   "source": [
    "jobid = createReport['jobId']\n",
    "reportStatus = getReportStatus(jobid, includeStage=True)\n",
    "PRINTER.pprint(reportStatus)\n",
    "print(\"\\nJob Status:\", reportStatus[\"status\"])"
   ]
  },
  {
   "cell_type": "markdown",
   "metadata": {},
   "source": [
    "___"
   ]
  },
  {
   "cell_type": "markdown",
   "metadata": {},
   "source": [
    "**(3) If job status above is \"READY\", *specify the filepath in quotes below* where you would like the save the report, then run this code to download the report. See commented out first line for example.**\n",
    "\n",
    "`fileformat=geojson` can be changed to `fileformat=csv` in order to download the file as a CSV instead."
   ]
  },
  {
   "cell_type": "code",
   "execution_count": 167,
   "metadata": {},
   "outputs": [],
   "source": [
    "filepath = '../../../../Desktop/Example_Report'"
   ]
  },
  {
   "cell_type": "code",
   "execution_count": 168,
   "metadata": {},
   "outputs": [],
   "source": [
    "fetchReport(jobid, filepath, fileformat='geojson')"
   ]
  },
  {
   "cell_type": "markdown",
   "metadata": {},
   "source": [
    "___"
   ]
  },
  {
   "cell_type": "markdown",
   "metadata": {},
   "source": [
    "______________"
   ]
  },
  {
   "cell_type": "markdown",
   "metadata": {},
   "source": [
    "### Generate Report at the Territory Level\n",
    "**(1) First, get all territories**"
   ]
  },
  {
   "cell_type": "code",
   "execution_count": 93,
   "metadata": {},
   "outputs": [
    {
     "name": "stdout",
     "output_type": "stream",
     "text": [
      "{ 'features': [ { 'projection': 4326,\n",
      "                  'properties': { 'Territory': 'NAPERVILLE_NORTH',\n",
      "                                  'UNIQUE_ROW_ID_COLS': 'Territory',\n",
      "                                  'area': 7642082.199489633,\n",
      "                                  'box': { 'east': -88.126626,\n",
      "                                           'north': 41.801992,\n",
      "                                           'south': 41.779182,\n",
      "                                           'west': -88.172316},\n",
      "                                  'centroid': { 'latitude': 41.78991330518308,\n",
      "                                                'longitude': -88.15144919564224},\n",
      "                                  'deleted': False,\n",
      "                                  'geometryBufferSize': 0.0,\n",
      "                                  'hierarchyLevelType': 'TERRITORY',\n",
      "                                  'ianaTimeZone': 'America/Chicago',\n",
      "                                  'inputType': 'ASSET',\n",
      "                                  'name': 'NAPERVILLE_NORTH',\n",
      "                                  'profileId': '8e874a0a-f13f-4e64-aa84-c8c8eace4ea0'},\n",
      "                  'type': 'Feature',\n",
      "                  'uuid': 'fa601936-4ce8-4054-8e17-84b5746febd3'},\n",
      "                { 'projection': 4326,\n",
      "                  'properties': { 'Territory': 'NAPERVILLE_SOUTH',\n",
      "                                  'UNIQUE_ROW_ID_COLS': 'Territory',\n",
      "                                  'area': 6388474.203064447,\n",
      "                                  'box': { 'east': -88.130733,\n",
      "                                           'north': 41.783592,\n",
      "                                           'south': 41.768295,\n",
      "                                           'west': -88.206035},\n",
      "                                  'centroid': { 'latitude': 41.77565311918013,\n",
      "                                                'longitude': -88.16783321931175},\n",
      "                                  'deleted': False,\n",
      "                                  'geometryBufferSize': 0.0,\n",
      "                                  'hierarchyLevelType': 'TERRITORY',\n",
      "                                  'ianaTimeZone': 'America/Chicago',\n",
      "                                  'inputType': 'ASSET',\n",
      "                                  'name': 'NAPERVILLE_SOUTH',\n",
      "                                  'profileId': '8e874a0a-f13f-4e64-aa84-c8c8eace4ea0'},\n",
      "                  'type': 'Feature',\n",
      "                  'uuid': 'c33c5a6b-439a-4b91-96fd-d6f537ccc733'}],\n",
      "  'totalRecords': 2,\n",
      "  'type': 'FeatureCollection'}\n"
     ]
    }
   ],
   "source": [
    "territories = getAsset(limit=5, input_type='TERRITORY', includeAssetGeometry=False)\n",
    "PRINTER.pprint(territories)"
   ]
  },
  {
   "cell_type": "markdown",
   "metadata": {},
   "source": [
    "Save the `TERRITORY` UUIDs to `territory_uuids`"
   ]
  },
  {
   "cell_type": "code",
   "execution_count": 94,
   "metadata": {},
   "outputs": [
    {
     "name": "stdout",
     "output_type": "stream",
     "text": [
      "\n",
      "Territory UUIDS:\n",
      "\n",
      "['fa601936-4ce8-4054-8e17-84b5746febd3', 'c33c5a6b-439a-4b91-96fd-d6f537ccc733']\n"
     ]
    }
   ],
   "source": [
    "territory_uuids = []\n",
    "for territory in territories['features']:\n",
    "    territory_uuids.append(territory['uuid'])\n",
    "print('\\nTerritory UUIDS:\\n')\n",
    "PRINTER.pprint(territory_uuids)"
   ]
  },
  {
   "cell_type": "markdown",
   "metadata": {},
   "source": [
    "___"
   ]
  },
  {
   "cell_type": "markdown",
   "metadata": {},
   "source": [
    "**(2) Next, generate the report**"
   ]
  },
  {
   "cell_type": "markdown",
   "metadata": {},
   "source": [
    "Use the `job_params` configured above and the first ID from `territory_uuids` to generate a report just for the first territory, `NAPERVILLE_NORTH`"
   ]
  },
  {
   "cell_type": "code",
   "execution_count": 95,
   "metadata": {},
   "outputs": [
    {
     "name": "stdout",
     "output_type": "stream",
     "text": [
      "{ 'jobName': 'Demo',\n",
      "  'jobParams': [ 'area_cor',\n",
      "                 'length_cor',\n",
      "                 'dist_less_than_3_048m',\n",
      "                 'dist_less_than_6_096m',\n",
      "                 'total',\n",
      "                 'min_3d_distance',\n",
      "                 'avg_vert_dist',\n",
      "                 'min_2d_distance',\n",
      "                 'less_than_percent_3_048m',\n",
      "                 'less_than_percent_6_096m',\n",
      "                 'area_trees_over_0m',\n",
      "                 'area_trees_over_9_144m',\n",
      "                 'percent_area_trees_over_9_144m',\n",
      "                 'area_trees_over_18_288m',\n",
      "                 'percent_area_trees_over_18_288m',\n",
      "                 'trees_over_wire',\n",
      "                 'trees_over_9_144m',\n",
      "                 'trees_over_18_288m',\n",
      "                 'wire_height',\n",
      "                 'length_with_veg',\n",
      "                 'tree_height_avg',\n",
      "                 'tree_coverage_percentage',\n",
      "                 'tree_height_max',\n",
      "                 'fallin_tree_count',\n",
      "                 'action_recommended',\n",
      "                 'score_vegetation',\n",
      "                 'score_priority',\n",
      "                 'name',\n",
      "                 'geometry'],\n",
      "  'jobRequest': { 'includeAllChildren': True,\n",
      "                  'includeScalarInfo': True,\n",
      "                  'inputType': 'SEGMENT',\n",
      "                  'limit': None,\n",
      "                  'nameMatch': 'STARTS_WITH',\n",
      "                  'parentUuid': 'fa601936-4ce8-4054-8e17-84b5746febd3',\n",
      "                  'projection': 4326,\n",
      "                  'start': 0,\n",
      "                  'uuidsOnly': False},\n",
      "  'jobType': 'ASSET_SEARCH'}\n",
      "{ 'jobId': '0e882084-7556-4a96-8000-5031d0e6bd9c',\n",
      "  'jobName': 'Demo',\n",
      "  'objectStorageLocation': 'agrotech-prod-wocvegmdemo:report/8e874a0a-f13f-4e64-aa84-c8c8eace4ea0/0e882084-7556-4a96-8000-5031d0e6bd9c/report.csv',\n",
      "  'organisation': 'wocvegmdemo',\n",
      "  'status': 'SCHEDULED'}\n"
     ]
    }
   ],
   "source": [
    "createReport_territory = postReportJob(job_name, job_params, 'SEGMENT', wkt_geom=True, territory_uuid=territory_uuids[0])\n",
    "PRINTER.pprint(createReport_territory)"
   ]
  },
  {
   "cell_type": "markdown",
   "metadata": {},
   "source": [
    "___"
   ]
  },
  {
   "cell_type": "markdown",
   "metadata": {},
   "source": [
    "**(3) Next, get the status of the job report**\n",
    "\n",
    "Change `includeStage` to `False` to remove the detailed stages output"
   ]
  },
  {
   "cell_type": "code",
   "execution_count": 97,
   "metadata": {},
   "outputs": [
    {
     "name": "stdout",
     "output_type": "stream",
     "text": [
      "{ 'createdDate': '2022-02-24T17:30:29Z',\n",
      "  'jobId': '0e882084-7556-4a96-8000-5031d0e6bd9c',\n",
      "  'jobName': 'Demo',\n",
      "  'lastModifiedDate': '2022-02-24T17:30:39Z',\n",
      "  'organisation': 'wocvegmdemo',\n",
      "  'stages': [ { 'description': 'upload [/tmp/tmp_5737uec_geojson.zip] to COS',\n",
      "                'stage': 'upload',\n",
      "                'status': 'COMPLETE',\n",
      "                'timestamp': '2022-02-24T17:30:38Z'},\n",
      "              { 'description': 'upload [/tmp/tmp_5737uec_geojson.zip] to COS',\n",
      "                'stage': 'upload',\n",
      "                'status': 'START',\n",
      "                'timestamp': '2022-02-24T17:30:38Z'},\n",
      "              { 'description': 'Build zip file for geojson',\n",
      "                'stage': 'Build ZIP file',\n",
      "                'status': 'COMPLETE',\n",
      "                'timestamp': '2022-02-24T17:30:38Z'},\n",
      "              { 'description': 'Build zip file for geojson',\n",
      "                'stage': 'Build ZIP file',\n",
      "                'status': 'START',\n",
      "                'timestamp': '2022-02-24T17:30:37Z'},\n",
      "              { 'description': 'upload [/tmp/tmp_5737uec.geojson] to COS',\n",
      "                'stage': 'upload',\n",
      "                'status': 'COMPLETE',\n",
      "                'timestamp': '2022-02-24T17:30:37Z'},\n",
      "              { 'description': 'upload [/tmp/tmp_5737uec.geojson] to COS',\n",
      "                'stage': 'upload',\n",
      "                'status': 'START',\n",
      "                'timestamp': '2022-02-24T17:30:36Z'},\n",
      "              { 'description': 'Converting CSV to GEOJSON',\n",
      "                'stage': 'Build GEOJSON',\n",
      "                'status': 'COMPLETE',\n",
      "                'timestamp': '2022-02-24T17:30:36Z'},\n",
      "              { 'description': 'Converting CSV to GEOJSON',\n",
      "                'stage': 'Build GEOJSON',\n",
      "                'status': 'START',\n",
      "                'timestamp': '2022-02-24T17:30:36Z'},\n",
      "              { 'description': 'upload [/tmp/tmp_5737uec_csv.zip] to COS',\n",
      "                'stage': 'upload',\n",
      "                'status': 'COMPLETE',\n",
      "                'timestamp': '2022-02-24T17:30:36Z'},\n",
      "              { 'description': 'upload [/tmp/tmp_5737uec_csv.zip] to COS',\n",
      "                'stage': 'upload',\n",
      "                'status': 'START',\n",
      "                'timestamp': '2022-02-24T17:30:35Z'},\n",
      "              { 'description': 'Build zip file for CSV',\n",
      "                'stage': 'Build ZIP file',\n",
      "                'status': 'COMPLETE',\n",
      "                'timestamp': '2022-02-24T17:30:35Z'},\n",
      "              { 'description': 'Build zip file for CSV',\n",
      "                'stage': 'Build ZIP file',\n",
      "                'status': 'START',\n",
      "                'timestamp': '2022-02-24T17:30:34Z'},\n",
      "              { 'description': 'upload [/tmp/tmp_5737uec.csv] to COS',\n",
      "                'stage': 'upload',\n",
      "                'status': 'COMPLETE',\n",
      "                'timestamp': '2022-02-24T17:30:34Z'},\n",
      "              { 'description': 'upload [/tmp/tmp_5737uec.csv] to COS',\n",
      "                'stage': 'upload',\n",
      "                'status': 'START',\n",
      "                'timestamp': '2022-02-24T17:30:33Z'},\n",
      "              { 'description': 'get values (220)',\n",
      "                'stage': 'filter search result',\n",
      "                'status': 'COMPLETE',\n",
      "                'timestamp': '2022-02-24T17:30:33Z'},\n",
      "              { 'description': 'get values (220)',\n",
      "                'stage': 'filter search result',\n",
      "                'status': 'START',\n",
      "                'timestamp': '2022-02-24T17:30:33Z'},\n",
      "              { 'description': 'search asset (220)',\n",
      "                'stage': 'asset search',\n",
      "                'status': 'COMPLETE',\n",
      "                'timestamp': '2022-02-24T17:30:33Z'},\n",
      "              { 'description': 'search asset (220)',\n",
      "                'stage': 'asset search',\n",
      "                'status': 'START',\n",
      "                'timestamp': '2022-02-24T17:30:33Z'},\n",
      "              { 'description': 'get values (0)',\n",
      "                'stage': 'filter search result',\n",
      "                'status': 'COMPLETE',\n",
      "                'timestamp': '2022-02-24T17:30:32Z'},\n",
      "              { 'description': 'get values (0)',\n",
      "                'stage': 'filter search result',\n",
      "                'status': 'START',\n",
      "                'timestamp': '2022-02-24T17:30:32Z'},\n",
      "              { 'description': 'search asset (0)',\n",
      "                'stage': 'asset search',\n",
      "                'status': 'COMPLETE',\n",
      "                'timestamp': '2022-02-24T17:30:32Z'},\n",
      "              { 'description': 'search asset (0)',\n",
      "                'stage': 'asset search',\n",
      "                'status': 'START',\n",
      "                'timestamp': '2022-02-24T17:30:31Z'},\n",
      "              { 'description': 'build CSV header',\n",
      "                'stage': 'get display names',\n",
      "                'status': 'COMPLETE',\n",
      "                'timestamp': '2022-02-24T17:30:31Z'},\n",
      "              { 'description': 'build CSV header',\n",
      "                'stage': 'get display names',\n",
      "                'status': 'START',\n",
      "                'timestamp': '2022-02-24T17:30:31Z'}],\n",
      "  'status': 'READY'}\n",
      "\n",
      "Job Status: READY\n"
     ]
    }
   ],
   "source": [
    "jobid_territory = createReport_territory['jobId']\n",
    "reportStatus = getReportStatus(jobid_territory, includeStage=True)\n",
    "PRINTER.pprint(reportStatus)\n",
    "print(\"\\nJob Status:\", reportStatus[\"status\"])"
   ]
  },
  {
   "cell_type": "markdown",
   "metadata": {},
   "source": [
    "___"
   ]
  },
  {
   "cell_type": "markdown",
   "metadata": {},
   "source": [
    "**(4) If job status above is \"READY\", specify the filepath in quotes below where you would like the save the report, then run this code to download the report. See commented out first line for example.**\n",
    "\n",
    "`fileformat=geojson` can be changed to `fileformat=csv` in order to download the file as a CSV instead."
   ]
  },
  {
   "cell_type": "code",
   "execution_count": 98,
   "metadata": {},
   "outputs": [],
   "source": [
    "filepath = '../../../../Desktop/Example_Territory_Report'"
   ]
  },
  {
   "cell_type": "code",
   "execution_count": 100,
   "metadata": {},
   "outputs": [],
   "source": [
    "fetchReport(jobid_territory, filepath, fileformat='geojson')"
   ]
  },
  {
   "cell_type": "markdown",
   "metadata": {},
   "source": [
    "___"
   ]
  },
  {
   "cell_type": "markdown",
   "metadata": {},
   "source": [
    "___"
   ]
  },
  {
   "cell_type": "markdown",
   "metadata": {},
   "source": [
    "___"
   ]
  }
 ],
 "metadata": {
  "kernelspec": {
   "display_name": "Python 3",
   "language": "python",
   "name": "python3"
  },
  "language_info": {
   "codemirror_mode": {
    "name": "ipython",
    "version": 3
   },
   "file_extension": ".py",
   "mimetype": "text/x-python",
   "name": "python",
   "nbconvert_exporter": "python",
   "pygments_lexer": "ipython3",
   "version": "3.9.4"
  }
 },
 "nbformat": 4,
 "nbformat_minor": 1
}
